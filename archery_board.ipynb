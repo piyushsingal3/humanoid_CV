import cv2
import numpy as np
from google.colab.patches import cv2_imshow


def detect_color(frame, lower_bound, upper_bound):
    hsv_frame = cv2.cvtColor(frame, cv2.COLOR_BGR2HSV)
    mask = cv2.inRange(hsv_frame, lower_bound, upper_bound)
    return mask

def find_bounding_box_and_centroid(mask):
    contours, _ = cv2.findContours(mask, cv2.RETR_EXTERNAL, cv2.CHAIN_APPROX_SIMPLE)
    if len(contours) == 0:
        return None, None, None, None  
    largest_contour = max(contours, key=cv2.contourArea)
    if cv2.contourArea(largest_contour) < min_area:
        return None, None, None, None  
    M = cv2.moments(largest_contour)
    if M["m00"] == 0:
        return None, None, None, None  
    cx = int(M["m10"] / M["m00"])
    cy = int(M["m01"] / M["m00"])
    x, y, w, h = cv2.boundingRect(largest_contour)
    return (x, y, w, h), cx, cy, largest_contour



#this defines the lower and upper bound of colour that needs to be detected
lower_red = np.array([0, 150, 150])
upper_red = np.array([10, 255, 255])
lower_red_upper = np.array([170, 150, 150])
upper_red_upper = np.array([180, 255, 255])

# Minimum area to considered for detection
min_area = 600


cap = cv2.VideoCapture('archery.mp4')  


positions = []

while cap.isOpened():
    ret, frame = cap.read()
    if not ret:
        break

    mask1 = detect_color(frame, lower_red, upper_red)
    mask2 = detect_color(frame, lower_red_upper, upper_red_upper)
    combined_mask = cv2.bitwise_or(mask1, mask2)

    bounding_box, cx, cy, largest_contour = find_bounding_box_and_centroid(combined_mask)
    if bounding_box is not None and cx is not None and cy is not None:
        x, y, w, h = bounding_box
      
        positions.append((cx, cy))

        cv2.rectangle(frame, (x, y), (x + w, y + h), (0, 255, 0), 2)

        cv2.circle(frame, (cx, cy), 5, (0, 255, 0), -1)

        cv2.drawContours(frame, [largest_contour], -1, (0, 255, 0), 2)
        if len(positions) > 1:
            dx = positions[-1][0] - positions[-2][0]
            dy = positions[-1][1] - positions[-2][1]
            pred_x = cx + 3 * dx
            pred_y = cy + 3 * dy

            cv2.circle(frame, (pred_x, pred_y), 5, (255, 0, 0), -1)
            cv2.putText(frame, "Predicted position", (pred_x + 10, pred_y), cv2.FONT_HERSHEY_SIMPLEX, 0.5, (255, 0, 0), 2)

 
            predicted_contour = largest_contour.copy()
            predicted_contour[:, :, 0] += (pred_x - cx)
            predicted_contour[:, :, 1] += (pred_y - cy)
            cv2.drawContours(frame, [predicted_contour], -1, (255, 0, 0), 2)

    
    cv2_imshow(frame)

    if cv2.waitKey(1) & 0xFF == ord('q'):
        break

cap.release()
cv2.destroyAllWindows()
