import cv2
import random

def extract_clips(video_file, duration, interval):
    cap = cv2.VideoCapture(video_file)
    fps = cap.get(cv2.CAP_PROP_FPS)
    total_frames = int(cap.get(cv2.CAP_PROP_FRAME_COUNT))
    frame_width = int(cap.get(cv2.CAP_PROP_FRAME_WIDTH))
    frame_height = int(cap.get(cv2.CAP_PROP_FRAME_HEIGHT))
    
    clips = []
    start_frame = 0
    while start_frame < total_frames:
        cap.set(cv2.CAP_PROP_POS_FRAMES, start_frame)
        frames = []
        for _ in range(int(duration * fps)):
            ret, frame = cap.read()
            if not ret:
                break
            frames.append(frame)
        if frames:
            clips.append(frames)
        start_frame += int((duration + interval) * fps)
    
    cap.release()
    return clips, fps, frame_width, frame_height

def create_reel(clips, reel_duration, fps):
    reel_frames = []
    total_frames = int(reel_duration * fps)
    
    while len(reel_frames) < total_frames:
        selected_clip = random.choice(clips)
        remaining_frames = total_frames - len(reel_frames)
        reel_frames.extend(selected_clip[:remaining_frames])
    
    return reel_frames[:total_frames]

def write_video(frames, output_file, fps, frame_width, frame_height):
    fourcc = cv2.VideoWriter_fourcc(*'mp4v')
    out = cv2.VideoWriter(output_file, fourcc, fps, (frame_width, frame_height))
    for frame in frames:
        out.write(frame)
    out.release()


long_video_file = 'hello.mp4'
reel_duration = 30  # in seconds
clip_duration = 2  # in seconds
interval_between_clips = 10  # in seconds


clips, fps, frame_width, frame_height = extract_clips(long_video_file, clip_duration, interval_between_clips)


reel_frames = create_reel(clips, reel_duration, fps)

write_video(reel_frames, 'reel_output.mp4', fps, frame_width, frame_height)
